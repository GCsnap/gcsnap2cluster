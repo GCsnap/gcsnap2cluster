{
 "cells": [
  {
   "cell_type": "markdown",
   "metadata": {},
   "source": [
    "#### Examples how to use GCsnap modules in Jupyter notebook"
   ]
  },
  {
   "cell_type": "code",
   "execution_count": null,
   "metadata": {},
   "outputs": [],
   "source": [
    "# presently, the exit() calls from GCsnap cause kernel interuptions in jupyter notebook.\n",
    "import os\n",
    "\n",
    "from gcsnap.configuration import Configuration\n",
    "from gcsnap.parallel_tools import ParallelTools\n",
    "\n",
    "from gcsnap.assemblies import Assemblies\n",
    "\n",
    "# create config for testing, uses the default configuration\n",
    "config = Configuration()\n",
    "# start cluster, mainly important when using Dask as the workers need to be started\n",
    "parallel = ParallelTools(config)\n",
    "# this examples work on one node with Dask LocalCluster as specified in the configuration\n",
    "\n",
    "\n",
    "targets_all = ['R8WYQ6_9ENTR','Q6D966_PECAS','H2J113_RAHAC','I8TT21_9FIRM','C5S0I8_9PAST','D5DC35_PRIM3','G8LK95_9ENTR',\n",
    "                'C6D8X9_PECCP','B2VEG9_ERWT9','X4ZG39_9BACL','H2J0C3_RAHAC','I0QQ93_9GAMM','B7L4Z9_ECO55','W7P5B4_9ENTR',\n",
    "                'K8WTQ9_9GAMM','A0A9J9GIQ1_ENT38','A0A837FI48_9ENTR','A0A1Q6B4T0_ECOLX','A0A376DCF6_ECOLX','A0A3T0R815_ECOLX',\n",
    "                '57208299','9733087','57292271','34290897','45716609','57332559','61349497','76522546','78506826','57906279',\n",
    "                '69058994','56891587','76607510','15144448','61037681','76392646','64207687','45565517','66961501','83586024',\n",
    "                'WP_008915955.1','WP_001538355.1','WP_013371219.1','WP_013448625.1','WP_025421344.1','WP_013084448.1','WP_004955457.1',\n",
    "                'WP_004851226.1','WP_023335015.1','WP_009653630.1','WP_010732931.1','WP_006121662.1','WP_020439301.1','WP_012770342.1',\n",
    "                'WP_004166538.1','WP_013574938.1','WP_070367577.1','WP_000291547.1','WP_001313400.1','WP_072833029.1','UniRef100_U1N0X1',\n",
    "                'UniRef50_W9BCH3','UniRef50_E3EIU6','UniRef50_A7ML49','UniRef100_I3I4H6','UniRef50_P16552','UniRef50_C9XXN2','UniRef90_K7ZYB1',\n",
    "                'UniRef100_A7Z937','UniRef50_A0A0C7KCH0','UniRef100_J1F361','UniRef100_I0QML3','UniRef90_J3A509','UniRef50_A9MER2','UniRef90_K6Y668',\n",
    "                'UniRef100_A0A0M2F4Z0','UniRef100_A0A0L7AG82','UniRef100_A0A8T3L1L2','UniRef100_A0AAE8CJK3','UniRef90_A0A0L7TEX5',\n",
    "                'EFK22699.1','AEX54717.1','AGB81004.1','ADG39479.1','AAU25613.1','AGK98652.1','ACZ77400.1','CCJ74421.1','EUK18068.1',\n",
    "                'EHD21217.1','ACS85132.1','GAC24184.1','EWG74888.1','AHF73891.1','OIZ68276.1','ADW71651.1','ADW75107.1','KGA35409.1',\n",
    "                'SEE95312.1','KPD02558.1']\n",
    "targets_refseq = ['WP_001538355.1','WP_013371219.1','WP_013448625.1','WP_025421344.1']\n"
   ]
  },
  {
   "cell_type": "markdown",
   "metadata": {},
   "source": [
    "**Mapping**  \n",
    "Code to demonstrate theuse of the SequenceMapping class to map targets from different ID standards."
   ]
  },
  {
   "cell_type": "code",
   "execution_count": null,
   "metadata": {},
   "outputs": [],
   "source": [
    "# With the class\n",
    "from gcsnap.mapping import SequenceMapping\n",
    "mapping = SequenceMapping(config, targets_all)\n",
    "mapping.run()\n",
    "targets_and_ncbi_codes = mapping.get_targets_and_ncbi_codes()\n",
    "print(targets_and_ncbi_codes)"
   ]
  },
  {
   "cell_type": "code",
   "execution_count": null,
   "metadata": {},
   "outputs": [],
   "source": [
    "# Directly from the database: You need to specify the path to the database and the field you want to search for\n",
    "from gcsnap.db_handler_uniprot_mappings import UniprotMappingsDBHandler\n",
    "db_handler = UniprotMappingsDBHandler('/scicore/home/schwede/GROUP/gcsnap_db/db')\n",
    "# as tuples\n",
    "tuples = db_handler.select(targets_refseq, field = 'RefSeq')\n",
    "print(tuples)\n",
    "# or directly as dataframe\n",
    "df = db_handler.fetch_records_as_dataframe(targets_refseq, field = 'RefSeq')\n",
    "print(df)"
   ]
  },
  {
   "cell_type": "markdown",
   "metadata": {},
   "source": [
    "**Assemblies**  \n",
    "Code to demonstrate the use of the Assembly class to finde and parse assemblies."
   ]
  },
  {
   "cell_type": "code",
   "execution_count": null,
   "metadata": {},
   "outputs": [],
   "source": [
    "# With the class\n",
    "from gcsnap.genomic_context import GenomicContext\n",
    "gc = GenomicContext(config)\n",
    "from gcsnap.assemblies import Assemblies\n",
    "assemblies = Assemblies(config, targets_and_ncbi_codes)\n",
    "assemblies.run()\n",
    "flanking_genes = assemblies.get_flanking_genes()\n",
    "print(flanking_genes)\n",
    "gc.update_syntenies(assemblies.get_flanking_genes())"
   ]
  },
  {
   "cell_type": "code",
   "execution_count": null,
   "metadata": {},
   "outputs": [],
   "source": [
    "# Directly from the database: You need to specify the path to the database\n",
    "from gcsnap.db_handler_assemblies import AssembliesDBHandler\n",
    "db_handler = AssembliesDBHandler('/scicore/home/schwede/GROUP/gcsnap_db/db')\n",
    "refseqID = ['WP_001538355.1','WP_013371219.1','WP_013448625.1','WP_025421344.1']\n",
    "# the assembly accesssions\n",
    "code_and_accessions = db_handler.select(refseqID) # table='mappings' id default\n",
    "print(code_and_accessions)\n",
    "accessions = [x[1] for x in code_and_accessions]\n",
    "# the assembly information\n",
    "info = db_handler.select(accessions, table='assemblies')\n",
    "print(info)\n"
   ]
  },
  {
   "cell_type": "markdown",
   "metadata": {},
   "source": [
    "**Sequences**  \n",
    "Code to demonstrate the use of the Sequences class to finde and parse assemblies."
   ]
  },
  {
   "cell_type": "code",
   "execution_count": null,
   "metadata": {},
   "outputs": [],
   "source": [
    "# input from cells before\n",
    "from gcsnap.sequences import Sequences\n",
    "sequences = Sequences(config, gc)\n",
    "sequences.run()\n",
    "gc.update_syntenies(sequences.get_sequences())"
   ]
  },
  {
   "cell_type": "code",
   "execution_count": null,
   "metadata": {},
   "outputs": [],
   "source": [
    "ncbi_codes = ['WP_008843544.1', 'WP_008843542.1', 'WP_008843541.1', 'WP_052154931.1', \n",
    "             'WP_008843539.1', 'WP_008843538.1', 'WP_008843537.1', 'WP_008843536.1', 'WP_153886269.1']\n",
    "# direct from the database\n",
    "from gcsnap.db_handler_sequences import SequenceDBHandler\n",
    "sequences_db = SequenceDBHandler('/scicore/home/schwede/GROUP/gcsnap_db/db')\n",
    "tuples = sequences_db.select(ncbi_codes)\n",
    "print(tuples)"
   ]
  },
  {
   "cell_type": "code",
   "execution_count": null,
   "metadata": {},
   "outputs": [],
   "source": [
    "import sqlite3\n",
    "# Connect to the database\n",
    "conn = sqlite3.connect('/scicore/home/schwede/GROUP/gcsnap_db/db/sequences.db')\n",
    "# Create a cursor object\n",
    "cursor = conn.cursor()\n",
    "# Execute a query to list all tables\n",
    "cursor.execute(\"SELECT name FROM sqlite_master WHERE type='table';\")\n",
    "# Fetch all results\n",
    "tables = cursor.fetchall()\n",
    "print(tables)\n",
    "\n",
    "for table in tables:\n",
    "    print(f\"\\nSchema for table {table[0]}:\")\n",
    "    cursor.execute(f\"PRAGMA table_info({table[0]});\")\n",
    "    columns = cursor.fetchall()\n",
    "    for column in columns:\n",
    "        print(f\"  Column: {column[1]}, Type: {column[2]}\")\n",
    "\n",
    "for table in tables:\n",
    "    print(f\"\\nSample data from table {table[0]}:\")\n",
    "    cursor.execute(f\"SELECT * FROM {table[0]} LIMIT 100;\")\n",
    "    rows = cursor.fetchall()\n",
    "    for row in rows:\n",
    "        print(row)       "
   ]
  },
  {
   "cell_type": "code",
   "execution_count": null,
   "metadata": {},
   "outputs": [],
   "source": [
    "import gzip\n",
    "file = os.path.join('/scicore/home/schwede/GROUP/gcsnap_db/refseq/data','GCF_002831425.1_ASM283142v1_protein.faa.gz')\n",
    "with gzip.open(file, 'rt', encoding='utf-8') as file:\n",
    "    content = file.read()\n",
    "lines = content.splitlines()\n",
    "content = '$%'.join(lines)\n",
    "# split that string to extract each sequence id\n",
    "# EFB12766.1 hypothetical protein PANDA_022614, partial [Ailuropoda melanoleuca]WSDGHLIYYDDQTRQSVEDKVHMPVDCINIRTGHECRGT\n",
    "# the first is an empty result\n",
    "entries = content.split('>')[1:]\n",
    "print(entries)\n",
    "for entry in entries[:2]:\n",
    "    # split the info from the acutal sequence str\n",
    "    entry_split = entry.split('$%')\n",
    "    sequence = ''.join(entry_split[1:])\n",
    "    # split the organism name in []\n",
    "    info_split = entry_split[0].split('[') \n",
    "    # orgname is same for the assembly, put it into assembly table\n",
    "    #orgname = info_split[-1].replace(']','')\n",
    "    ncbi_code = info_split[0].split(' ')[0]\n",
    "    print(ncbi_code,sequence)\n",
    "\n",
    "\n"
   ]
  },
  {
   "cell_type": "code",
   "execution_count": null,
   "metadata": {},
   "outputs": [],
   "source": [
    "\n",
    "for entry in entries:\n",
    "    # split the info from the acutal sequence str\n",
    "    entry_split = entry.split('\\n')\n",
    "    sequence = ''.join(entry_split[1:])\n",
    "    # split the organism name in []\n",
    "    info_split = entry_split[0].split('[') \n",
    "    # orgname is same for the assembly, put it into assembly table\n",
    "    #orgname = info_split[-1].replace(']','')\n",
    "    ncbi_code = info_split[0].split(' ')[0]"
   ]
  }
 ],
 "metadata": {
  "kernelspec": {
   "display_name": "Python 3",
   "language": "python",
   "name": "python3"
  },
  "language_info": {
   "codemirror_mode": {
    "name": "ipython",
    "version": 3
   },
   "file_extension": ".py",
   "mimetype": "text/x-python",
   "name": "python",
   "nbconvert_exporter": "python",
   "pygments_lexer": "ipython3",
   "version": "3.11.9"
  }
 },
 "nbformat": 4,
 "nbformat_minor": 2
}
