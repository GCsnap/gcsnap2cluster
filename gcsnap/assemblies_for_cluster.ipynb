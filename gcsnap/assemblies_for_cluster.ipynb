{
 "cells": [
  {
   "cell_type": "markdown",
   "metadata": {},
   "source": [
    "Code to find out which assemblies are needed to run examples. Those are then added to DB as there is no time to update all."
   ]
  },
  {
   "cell_type": "code",
   "execution_count": null,
   "metadata": {},
   "outputs": [],
   "source": [
    "# presently, the exit() calls from GCsnap cause kernel interuptions in jupyter notebook.\n",
    "import os\n",
    "\n",
    "from gcsnap.configuration import Configuration\n",
    "from gcsnap.parallel_tools import ParallelTools\n",
    "\n",
    "# create config for testing, uses the default configuration\n",
    "config = Configuration()\n",
    "# start cluster, mainly important when using Dask as the workers need to be started\n",
    "parallel = ParallelTools(config)\n",
    "# this examples work on one node with Dask LocalCluster as specified in the configuration\n",
    "\n",
    "# read all targets \n",
    "with open('/scicore/home/schwede/kruret00/MT/experiments/targets/target_sequences_1000000.txt') as f:\n",
    "    content = f.read()\n",
    "targets = content.split('\\n')\n",
    "print(len(targets))"
   ]
  },
  {
   "cell_type": "code",
   "execution_count": null,
   "metadata": {},
   "outputs": [],
   "source": [
    "# With the class\n",
    "import pickle\n",
    "from gcsnap.mapping import SequenceMapping\n",
    "mapping = SequenceMapping(config, targets)\n",
    "mapping.run()\n",
    "targets_and_ncbi_codes = mapping.get_targets_and_ncbi_codes()\n",
    "with open(\"my_list.pkl\", \"wb\") as file:\n",
    "    pickle.dump(targets_and_ncbi_codes, file)"
   ]
  },
  {
   "cell_type": "code",
   "execution_count": null,
   "metadata": {},
   "outputs": [],
   "source": [
    "print(targets_and_ncbi_codes[:10])\n",
    "print(len(targets_and_ncbi_codes))"
   ]
  },
  {
   "cell_type": "code",
   "execution_count": 5,
   "metadata": {},
   "outputs": [
    {
     "data": {
      "application/vnd.jupyter.widget-view+json": {
       "model_id": "b78bf0ace9ff48c4b6d4035641978dba",
       "version_major": 2,
       "version_minor": 0
      },
      "text/plain": [
       "Output()"
      ]
     },
     "metadata": {},
     "output_type": "display_data"
    },
    {
     "data": {
      "text/html": [
       "<pre style=\"white-space:pre;overflow-x:auto;line-height:normal;font-family:Menlo,'DejaVu Sans Mono',consolas,'Courier New',monospace\">/scicore/home/schwede/kruret00/miniconda3/envs/GCsnap/lib/python3.11/site-packages/distributed/client.py:3357: \n",
       "UserWarning: Sending large graph of size 26.20 MiB.\n",
       "This may cause some slowdown.\n",
       "Consider scattering data ahead of time and using futures.\n",
       "  warnings.warn(\n",
       "</pre>\n"
      ],
      "text/plain": [
       "/scicore/home/schwede/kruret00/miniconda3/envs/GCsnap/lib/python3.11/site-packages/distributed/client.py:3357: \n",
       "UserWarning: Sending large graph of size 26.20 MiB.\n",
       "This may cause some slowdown.\n",
       "Consider scattering data ahead of time and using futures.\n",
       "  warnings.warn(\n"
      ]
     },
     "metadata": {},
     "output_type": "display_data"
    },
    {
     "data": {
      "text/html": [
       "<pre style=\"white-space:pre;overflow-x:auto;line-height:normal;font-family:Menlo,'DejaVu Sans Mono',consolas,'Courier New',monospace\"></pre>\n"
      ],
      "text/plain": []
     },
     "metadata": {},
     "output_type": "display_data"
    },
    {
     "data": {
      "text/html": [
       "<pre style=\"white-space:pre;overflow-x:auto;line-height:normal;font-family:Menlo,'DejaVu Sans Mono',consolas,'Courier New',monospace\"><span style=\"color: #afff87; text-decoration-color: #afff87\">✅  Done download assemblies and extract flanking genes</span>\n",
       "</pre>\n"
      ],
      "text/plain": [
       "\u001b[38;5;156m✅  Done download assemblies and extract flanking genes\u001b[0m\n"
      ]
     },
     "metadata": {},
     "output_type": "display_data"
    }
   ],
   "source": [
    "# With the class\n",
    "import pickle\n",
    "\n",
    "with open(\"my_list.pkl\", 'rb') as f:\n",
    "    targets_and_ncbi_codes = pickle.load(f)\n",
    "\n",
    "from gcsnap.assemblies import Assemblies\n",
    "assemblies = Assemblies(config, targets_and_ncbi_codes)\n",
    "result = assemblies.run()\n",
    "\n",
    "with open(\"my_list_II.pkl\", \"wb\") as file:\n",
    "    pickle.dump(result, file)"
   ]
  },
  {
   "cell_type": "code",
   "execution_count": 2,
   "metadata": {},
   "outputs": [
    {
     "name": "stdout",
     "output_type": "stream",
     "text": [
      "('F8X129', 'WP_006843308.1', 'GCF_000213575.1', 'https://ftp.ncbi.nlm.nih.gov/genomes/all/GCF/000/213/575/GCF_000213575.1_Dysg_moss_DSM_V1', 742767, 'Dysgonomonas mossii DSM 22836')\n"
     ]
    }
   ],
   "source": [
    "import pickle\n",
    "import os\n",
    "\n",
    "with open(\"my_list_II.pkl\", 'rb') as f:\n",
    "    results = pickle.load(f)\n",
    "    \n",
    "# flatten\n",
    "info = [e for ll in results for e in ll]\n",
    "\n",
    "\n",
    "print(info[1])\n",
    "\n",
    "assembly_files = [os.path.basename(e[3]) for e in info]    \n",
    "# make unique\n",
    "assemblies = list(set(assembly_files))    \n",
    "len(assemblies)\n",
    "\n",
    "with open(\"assemblies.txt\", \"w\") as file:\n",
    "    file.write(\"\\n\".join(assemblies))"
   ]
  },
  {
   "cell_type": "code",
   "execution_count": 1,
   "metadata": {},
   "outputs": [
    {
     "name": "stdout",
     "output_type": "stream",
     "text": [
      "57489\n"
     ]
    }
   ],
   "source": [
    "with open(\"assemblies.txt\", \"r\") as file:\n",
    "    content = file.read()\n",
    "lines = content.split(\"\\n\")\n",
    "print(len(lines))"
   ]
  }
 ],
 "metadata": {
  "kernelspec": {
   "display_name": "GCsnap",
   "language": "python",
   "name": "python3"
  },
  "language_info": {
   "codemirror_mode": {
    "name": "ipython",
    "version": 3
   },
   "file_extension": ".py",
   "mimetype": "text/x-python",
   "name": "python",
   "nbconvert_exporter": "python",
   "pygments_lexer": "ipython3",
   "version": "3.11.9"
  }
 },
 "nbformat": 4,
 "nbformat_minor": 2
}
