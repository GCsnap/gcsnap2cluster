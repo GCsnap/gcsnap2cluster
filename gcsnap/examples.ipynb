{
 "cells": [
  {
   "cell_type": "markdown",
   "metadata": {},
   "source": [
    "#### GCsnap Example Notebook\n",
    "This notebook contains some examples of how to use GCsnap modules and also some code that need to be run in advance."
   ]
  },
  {
   "cell_type": "markdown",
   "metadata": {},
   "source": [
    "##### Generate the parquet files for the mapping in advance"
   ]
  },
  {
   "cell_type": "code",
   "execution_count": 4,
   "metadata": {},
   "outputs": [
    {
     "data": {
      "text/html": [
       "<pre style=\"white-space:pre;overflow-x:auto;line-height:normal;font-family:Menlo,'DejaVu Sans Mono',consolas,'Courier New',monospace\"><span style=\"color: #afff87; text-decoration-color: #afff87\">✅  Done configuration file config.yaml loaded</span>\n",
       "</pre>\n"
      ],
      "text/plain": [
       "\u001b[38;5;156m✅  Done configuration file config.yaml loaded\u001b[0m\n"
      ]
     },
     "metadata": {},
     "output_type": "display_data"
    },
    {
     "data": {
      "text/html": [
       "<pre style=\"white-space:pre;overflow-x:auto;line-height:normal;font-family:Menlo,'DejaVu Sans Mono',consolas,'Courier New',monospace\"></pre>\n"
      ],
      "text/plain": []
     },
     "metadata": {},
     "output_type": "display_data"
    },
    {
     "data": {
      "text/html": [
       "<pre style=\"white-space:pre;overflow-x:auto;line-height:normal;font-family:Menlo,'DejaVu Sans Mono',consolas,'Courier New',monospace\"><span style=\"color: #afff87; text-decoration-color: #afff87\">✅  Done parsing CLI arguments and config.yaml</span>\n",
       "</pre>\n"
      ],
      "text/plain": [
       "\u001b[38;5;156m✅  Done parsing CLI arguments and config.yaml\u001b[0m\n"
      ]
     },
     "metadata": {},
     "output_type": "display_data"
    }
   ],
   "source": [
    "# This works here as we are in the same Folder as the scritps. Once build, it should work outside.\n",
    "from gcsnap.mapping import SequenceMapping\n",
    "from gcsnap.configuration import Configuration\n",
    "\n",
    "# generate a config instance with all arguments read from config.yaml\n",
    "config = Configuration()"
   ]
  },
  {
   "cell_type": "code",
   "execution_count": 5,
   "metadata": {},
   "outputs": [
    {
     "data": {
      "application/vnd.jupyter.widget-view+json": {
       "model_id": "ce7dc7a314c34da8a7eca75e0e933209",
       "version_major": 2,
       "version_minor": 0
      },
      "text/plain": [
       "Output()"
      ]
     },
     "metadata": {},
     "output_type": "display_data"
    },
    {
     "data": {
      "text/html": [
       "<pre style=\"white-space:pre;overflow-x:auto;line-height:normal;font-family:Menlo,'DejaVu Sans Mono',consolas,'Courier New',monospace\"></pre>\n"
      ],
      "text/plain": []
     },
     "metadata": {},
     "output_type": "display_data"
    },
    {
     "data": {
      "text/html": [
       "<pre style=\"white-space:pre;overflow-x:auto;line-height:normal;font-family:Menlo,'DejaVu Sans Mono',consolas,'Courier New',monospace\"><span style=\"color: #afff87; text-decoration-color: #afff87\">✅  Done create parquet partitions of raw mapping file</span>\n",
       "</pre>\n"
      ],
      "text/plain": [
       "\u001b[38;5;156m✅  Done create parquet partitions of raw mapping file\u001b[0m\n"
      ]
     },
     "metadata": {},
     "output_type": "display_data"
    }
   ],
   "source": [
    "# generate a mapping instance\n",
    "mapping = SequenceMapping(config, '/scicore/home/schwede/GROUP/gcsnap_db/mappings/idmapping_selected.tab')\n",
    "\n",
    "# pregenerate the parquet families\n",
    "mapping.create_parquet_partitions()"
   ]
  },
  {
   "cell_type": "code",
   "execution_count": null,
   "metadata": {},
   "outputs": [],
   "source": []
  },
  {
   "cell_type": "code",
   "execution_count": 12,
   "metadata": {},
   "outputs": [],
   "source": [
    "# Test the databases\n",
    "from gcsnap.db_handler_assemblies import AssemblyDB\n",
    "\n",
    "# get a list from ncbi codes\n",
    "mapping.mapping.get_targets_and_ncbi_codes() \n",
    "\n",
    "\n"
   ]
  },
  {
   "cell_type": "code",
   "execution_count": 7,
   "metadata": {},
   "outputs": [
    {
     "name": "stdout",
     "output_type": "stream",
     "text": [
      "[('GCA_000416965.1', 'https://ftp.ncbi.nlm.nih.gov/genomes/all/GCA/000/416/965/GCA_000416965.1_23.K55', 1345023, 'Exiguobacterium chiriqhucha RW-2'), ('GCA_001922905.1', 'https://ftp.ncbi.nlm.nih.gov/genomes/all/GCA/001/922/905/GCA_001922905.1_ASM192290v1', 413502, 'Cronobacter turicensis'), ('GCA_015722865.1', 'https://ftp.ncbi.nlm.nih.gov/genomes/all/GCA/015/722/865/GCA_015722865.1_ASM1572286v1', 626774, 'Proteus terrae subsp. cibarius'), ('GCA_900451105.1', 'https://ftp.ncbi.nlm.nih.gov/genomes/all/GCA/900/451/105/GCA_900451105.1_31180_B01', 569, 'Hafnia alvei'), ('GCF_000314895.2', 'https://ftp.ncbi.nlm.nih.gov/genomes/all/GCF/000/314/895/GCF_000314895.2_ASM31489v2', 1141660, 'Providencia sneebia DSM 19967'), ('GCF_021498305.1', 'https://ftp.ncbi.nlm.nih.gov/genomes/all/GCF/021/498/305/GCF_021498305.1_ASM2149830v1', 82996, 'Serratia plymuthica'), ('GCF_029823335.1', 'https://ftp.ncbi.nlm.nih.gov/genomes/all/GCF/029/823/335/GCF_029823335.1_ASM2982333v1', 1254, 'Pediococcus acidilactici'), ('GCF_037136815.1', 'https://ftp.ncbi.nlm.nih.gov/genomes/all/GCF/037/136/815/GCF_037136815.1_ASM3713681v1', 556, 'Dickeya chrysanthemi')]\n",
      "GCA_000416965.1_23.K55_genomic.gff.gz\n",
      "exists\n"
     ]
    }
   ],
   "source": [
    "\n",
    "ncbi_codes = ['ERG67661.1', 'MBG2912773.1','STQ80048.1','PUX20837.1','WP_008915955.1','WP_004166538.1','WP_012770342.1','WP_020439301.1']\n",
    "\n",
    "\n",
    "from gcsnap.db_handler_assemblies import AssembliesDBHandler\n",
    "import os\n",
    "\n",
    "assembly_db = AssembliesDBHandler('/scicore/home/schwede/GROUP/gcsnap_db/ncbi_db')\n",
    "# get the assemblies accession for the ncbi codes (from default table 'mapping')\n",
    "result_tuples = assembly_db.select(ncbi_codes)\n",
    "ass_accessions = [element[1] for element in result_tuples]\n",
    "\n",
    "# get the assembly file links for the accession\n",
    "assemblies = assembly_db.select(ass_accessions, table = 'assemblies')\n",
    "\n",
    "\n",
    "# get the firts file\n",
    "ass_file = os.path.basename(assemblies[0][1]) + '_genomic.gff.gz'\n",
    "print(assemblies)\n",
    "print(ass_file)\n",
    "\n",
    "# search the file\n",
    "if ass_file.startswith('GCA'):\n",
    "    db = 'genbank'\n",
    "else:\n",
    "    db = 'refseq'\n",
    "data_path = os.path.join('/scicore/home/schwede/GROUP/gcsnap_db/',db,'data')\n",
    "\n",
    "# check file exists\n",
    "if os.path.exists(os.path.join(data_path,ass_file)):\n",
    "    print('exists')\n",
    "else:\n",
    "    print('file not found')\n",
    "\n",
    "\n",
    "\n",
    "\n",
    "\n",
    "\n"
   ]
  },
  {
   "cell_type": "code",
   "execution_count": 20,
   "metadata": {},
   "outputs": [
    {
     "name": "stdout",
     "output_type": "stream",
     "text": [
      "30000\n",
      "[('Q6GZX4', '001R_FRG3G', '2947773', 'YP_031579.1', None, 'UPI00003B0FD4', '654924', 'AAT09660.1', None), ('Q6GZX3', '002L_FRG3G', '2947774', 'YP_031580.1', None, 'UPI00003B0FD5', '654924', 'AAT09661.1', None), ('Q197F8', '002R_IIV3', '4156251', 'YP_654574.1', None, 'UPI0000D83464', '345201', 'ABF82032.1', None), ('Q197F7', '003L_IIV3', '4156252', 'YP_654575.1', None, 'UPI0000D83465', '345201', 'ABF82033.1', None), ('Q6GZX2', '003R_FRG3G', '2947775', 'YP_031581.1', None, 'UPI00003B0FD6', '654924', 'AAT09662.1', None)]\n",
      "[('P26670', '3BHS_VACCW', '3707700', 'YP_233052.1', None, 'UPI0000124ED4', '10254', 'AAA48311.1; BAA01818.1; AAO89449.1', None), ('Q89187', '3BHS_VAR67', '1486530', 'NP_042199.1', None, 'UPI00000F6E4F', '587200', 'CAA49096.1', None), ('Q9Y3L3', '3BP1_HUMAN', '23616', 'NP_061830.3', '4J9D:B; 4J9D:D; 4J9D:F; 4J9F:B; 4J9F:D; 4J9F:F', 'UPI000004EE00', '9606', 'CAG30462.1; BAC85842.1; -; AAH08282.1; CAB75671.2', 'ENSG00000100092.24'), ('P55194', '3BP1_MOUSE', '20401', 'NP_001303613.1', '1ABO:C; 1ABO:D', 'UPI0000EE04A7', '10090', 'CAA61011.1; -; AAH04598.1', 'ENSMUSG00000022436.17'), ('D3ZFJ3', '3BP1_RAT', '300067', 'NP_001165452.1', None, 'UPI0001B7ACA3', '10116', '-', 'ENSRNOG00000009360.7'), ('P78314', '3BP2_HUMAN', '6452', 'NP_001116153.1; NP_001139327.1; NP_001139328.1; NP_003014.3', '2CR4:A; 3TWR:E; 3TWR:F; 3TWR:G; 3TWR:H', 'UPI0000124ED7', '9606', 'AAB59973.1; AAB72034.1; BAA19119.1; BAA19120.1; BAG61816.1; BAG35213.1; -; EAW82509.1; EAW82510.1; EAW82511.1; EAW82512.1; AAH22996.1', 'ENSG00000087266.17'), ('Q9V785', '3BP5H_DROME', '36674', 'NP_611010.4', None, 'UPI0000124ED8', '7227', 'AAF58174.5; AAL13557.1', None)]\n",
      "  UniProtKB_AC  ...                Ensembl\n",
      "0       P26670  ...                   None\n",
      "1       Q89187  ...                   None\n",
      "2       Q9Y3L3  ...     ENSG00000100092.24\n",
      "3       P55194  ...  ENSMUSG00000022436.17\n",
      "4       D3ZFJ3  ...   ENSRNOG00000009360.7\n",
      "5       P78314  ...     ENSG00000087266.17\n",
      "6       Q9V785  ...                   None\n",
      "\n",
      "[7 rows x 9 columns]\n"
     ]
    }
   ],
   "source": [
    "from gcsnap.db_handler_uniprot_mappings import UniprotMappingsDBHandler\n",
    "mapping_db = UniprotMappingsDBHandler('/scicore/home/schwede/GROUP/gcsnap_db/mappings')\n",
    "\n",
    "result = mapping_db.select_all()\n",
    "\n",
    "print(len(result))\n",
    "print(result[:5])\n",
    "\n",
    "list_refseq = [e[3] for e in result]\n",
    "list_refseq = list_refseq[1000:1010]\n",
    "\n",
    "result = mapping_db.select(list_refseq, field = 'RefSeq')\n",
    "print(result)\n",
    "\n",
    "df = mapping_db.fetch_records_as_dataframe(list_refseq, field='RefSeq')\n",
    "print(df)\n",
    "\n",
    "\n",
    "\n",
    "\n",
    "\n"
   ]
  }
 ],
 "metadata": {
  "kernelspec": {
   "display_name": "gcsnap2",
   "language": "python",
   "name": "python3"
  },
  "language_info": {
   "codemirror_mode": {
    "name": "ipython",
    "version": 3
   },
   "file_extension": ".py",
   "mimetype": "text/x-python",
   "name": "python",
   "nbconvert_exporter": "python",
   "pygments_lexer": "ipython3",
   "version": "3.11.0"
  }
 },
 "nbformat": 4,
 "nbformat_minor": 2
}
