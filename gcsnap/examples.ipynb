{
 "cells": [
  {
   "cell_type": "markdown",
   "metadata": {},
   "source": [
    "#### GCsnap Example Notebook\n",
    "This notebook contains some examples of how to use GCsnap modules and also some code that need to be run in advance."
   ]
  },
  {
   "cell_type": "markdown",
   "metadata": {},
   "source": [
    "##### Generate the parquet files for the mapping in advance"
   ]
  },
  {
   "cell_type": "code",
   "execution_count": 4,
   "metadata": {},
   "outputs": [
    {
     "data": {
      "text/html": [
       "<pre style=\"white-space:pre;overflow-x:auto;line-height:normal;font-family:Menlo,'DejaVu Sans Mono',consolas,'Courier New',monospace\"><span style=\"color: #afff87; text-decoration-color: #afff87\">✅  Done configuration file config.yaml loaded</span>\n",
       "</pre>\n"
      ],
      "text/plain": [
       "\u001b[38;5;156m✅  Done configuration file config.yaml loaded\u001b[0m\n"
      ]
     },
     "metadata": {},
     "output_type": "display_data"
    },
    {
     "data": {
      "text/html": [
       "<pre style=\"white-space:pre;overflow-x:auto;line-height:normal;font-family:Menlo,'DejaVu Sans Mono',consolas,'Courier New',monospace\"></pre>\n"
      ],
      "text/plain": []
     },
     "metadata": {},
     "output_type": "display_data"
    },
    {
     "data": {
      "text/html": [
       "<pre style=\"white-space:pre;overflow-x:auto;line-height:normal;font-family:Menlo,'DejaVu Sans Mono',consolas,'Courier New',monospace\"><span style=\"color: #afff87; text-decoration-color: #afff87\">✅  Done parsing CLI arguments and config.yaml</span>\n",
       "</pre>\n"
      ],
      "text/plain": [
       "\u001b[38;5;156m✅  Done parsing CLI arguments and config.yaml\u001b[0m\n"
      ]
     },
     "metadata": {},
     "output_type": "display_data"
    }
   ],
   "source": [
    "# This works here as we are in the same Folder as the scritps. Once build, it should work outside.\n",
    "from gcsnap.mapping import SequenceMapping\n",
    "from gcsnap.configuration import Configuration\n",
    "\n",
    "# generate a config instance with all arguments read from config.yaml\n",
    "config = Configuration()"
   ]
  },
  {
   "cell_type": "code",
   "execution_count": 5,
   "metadata": {},
   "outputs": [
    {
     "data": {
      "application/vnd.jupyter.widget-view+json": {
       "model_id": "ce7dc7a314c34da8a7eca75e0e933209",
       "version_major": 2,
       "version_minor": 0
      },
      "text/plain": [
       "Output()"
      ]
     },
     "metadata": {},
     "output_type": "display_data"
    },
    {
     "data": {
      "text/html": [
       "<pre style=\"white-space:pre;overflow-x:auto;line-height:normal;font-family:Menlo,'DejaVu Sans Mono',consolas,'Courier New',monospace\"></pre>\n"
      ],
      "text/plain": []
     },
     "metadata": {},
     "output_type": "display_data"
    },
    {
     "data": {
      "text/html": [
       "<pre style=\"white-space:pre;overflow-x:auto;line-height:normal;font-family:Menlo,'DejaVu Sans Mono',consolas,'Courier New',monospace\"><span style=\"color: #afff87; text-decoration-color: #afff87\">✅  Done create parquet partitions of raw mapping file</span>\n",
       "</pre>\n"
      ],
      "text/plain": [
       "\u001b[38;5;156m✅  Done create parquet partitions of raw mapping file\u001b[0m\n"
      ]
     },
     "metadata": {},
     "output_type": "display_data"
    }
   ],
   "source": [
    "# generate a mapping instance\n",
    "mapping = SequenceMapping(config, '/scicore/home/schwede/GROUP/gcsnap_db/mappings/idmapping_selected.tab')\n",
    "\n",
    "# pregenerate the parquet families\n",
    "mapping.create_parquet_partitions()"
   ]
  },
  {
   "cell_type": "code",
   "execution_count": null,
   "metadata": {},
   "outputs": [],
   "source": []
  },
  {
   "cell_type": "code",
   "execution_count": 12,
   "metadata": {},
   "outputs": [],
   "source": [
    "# Test the databases\n",
    "from gcsnap.db_handler_assemblies import AssemblyDB\n",
    "\n",
    "# get a list from ncbi codes\n",
    "mapping.mapping.get_targets_and_ncbi_codes() \n",
    "\n",
    "\n"
   ]
  },
  {
   "cell_type": "code",
   "execution_count": 7,
   "metadata": {},
   "outputs": [
    {
     "name": "stdout",
     "output_type": "stream",
     "text": [
      "[('GCA_000416965.1', 'https://ftp.ncbi.nlm.nih.gov/genomes/all/GCA/000/416/965/GCA_000416965.1_23.K55', 1345023, 'Exiguobacterium chiriqhucha RW-2'), ('GCA_001922905.1', 'https://ftp.ncbi.nlm.nih.gov/genomes/all/GCA/001/922/905/GCA_001922905.1_ASM192290v1', 413502, 'Cronobacter turicensis'), ('GCA_015722865.1', 'https://ftp.ncbi.nlm.nih.gov/genomes/all/GCA/015/722/865/GCA_015722865.1_ASM1572286v1', 626774, 'Proteus terrae subsp. cibarius'), ('GCA_900451105.1', 'https://ftp.ncbi.nlm.nih.gov/genomes/all/GCA/900/451/105/GCA_900451105.1_31180_B01', 569, 'Hafnia alvei'), ('GCF_000314895.2', 'https://ftp.ncbi.nlm.nih.gov/genomes/all/GCF/000/314/895/GCF_000314895.2_ASM31489v2', 1141660, 'Providencia sneebia DSM 19967'), ('GCF_021498305.1', 'https://ftp.ncbi.nlm.nih.gov/genomes/all/GCF/021/498/305/GCF_021498305.1_ASM2149830v1', 82996, 'Serratia plymuthica'), ('GCF_029823335.1', 'https://ftp.ncbi.nlm.nih.gov/genomes/all/GCF/029/823/335/GCF_029823335.1_ASM2982333v1', 1254, 'Pediococcus acidilactici'), ('GCF_037136815.1', 'https://ftp.ncbi.nlm.nih.gov/genomes/all/GCF/037/136/815/GCF_037136815.1_ASM3713681v1', 556, 'Dickeya chrysanthemi')]\n",
      "GCA_000416965.1_23.K55_genomic.gff.gz\n",
      "exists\n"
     ]
    }
   ],
   "source": [
    "\n",
    "ncbi_codes = ['ERG67661.1', 'MBG2912773.1','STQ80048.1','PUX20837.1','WP_008915955.1','WP_004166538.1','WP_012770342.1','WP_020439301.1']\n",
    "\n",
    "\n",
    "from gcsnap.db_handler_assemblies import AssembliesDBHandler\n",
    "import os\n",
    "\n",
    "assembly_db = AssembliesDBHandler('/scicore/home/schwede/GROUP/gcsnap_db/ncbi_db')\n",
    "# get the assemblies accession for the ncbi codes (from default table 'mapping')\n",
    "result_tuples = assembly_db.select(ncbi_codes)\n",
    "ass_accessions = [element[1] for element in result_tuples]\n",
    "\n",
    "# get the assembly file links for the accession\n",
    "assemblies = assembly_db.select(ass_accessions, table = 'assemblies')\n",
    "\n",
    "\n",
    "# get the firts file\n",
    "ass_file = os.path.basename(assemblies[0][1]) + '_genomic.gff.gz'\n",
    "print(assemblies)\n",
    "print(ass_file)\n",
    "\n",
    "# search the file\n",
    "if ass_file.startswith('GCA'):\n",
    "    db = 'genbank'\n",
    "else:\n",
    "    db = 'refseq'\n",
    "data_path = os.path.join('/scicore/home/schwede/GROUP/gcsnap_db/',db,'data')\n",
    "\n",
    "# check file exists\n",
    "if os.path.exists(os.path.join(data_path,ass_file)):\n",
    "    print('exists')\n",
    "else:\n",
    "    print('file not found')\n",
    "\n",
    "\n",
    "\n",
    "\n",
    "\n",
    "\n"
   ]
  }
 ],
 "metadata": {
  "kernelspec": {
   "display_name": "gcsnap2",
   "language": "python",
   "name": "python3"
  },
  "language_info": {
   "codemirror_mode": {
    "name": "ipython",
    "version": 3
   },
   "file_extension": ".py",
   "mimetype": "text/x-python",
   "name": "python",
   "nbconvert_exporter": "python",
   "pygments_lexer": "ipython3",
   "version": "3.11.0"
  }
 },
 "nbformat": 4,
 "nbformat_minor": 2
}
